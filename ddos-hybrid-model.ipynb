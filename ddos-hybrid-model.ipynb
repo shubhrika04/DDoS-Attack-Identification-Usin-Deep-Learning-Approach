{
  "cells": [
    {
      "cell_type": "code",
      "execution_count": 1,
      "metadata": {
        "id": "ldjwRuwTqfNj"
      },
      "outputs": [],
      "source": [
        "import pandas as pd\n",
        "import numpy as np\n",
        "from sklearn.model_selection import train_test_split\n",
        "from sklearn.preprocessing import StandardScaler\n",
        "\n",
        "dataset = pd.read_csv('/content/Friday-WorkingHours-Afternoon-DDos.pcap_ISCX.csv')"
      ]
    },
    {
      "cell_type": "code",
      "execution_count": 2,
      "metadata": {
        "id": "L0fesL2n1JkU"
      },
      "outputs": [],
      "source": [
        "df=pd.DataFrame(dataset)"
      ]
    },
    {
      "cell_type": "code",
      "execution_count": 3,
      "metadata": {
        "colab": {
          "base_uri": "https://localhost:8080/"
        },
        "id": "LpGUKJdbq4JE",
        "outputId": "776e09b2-f280-4c07-c993-e19c84550ed5"
      },
      "outputs": [
        {
          "output_type": "execute_result",
          "data": {
            "text/plain": [
              "Index([' Destination Port', ' Flow Duration', ' Total Fwd Packets',\n",
              "       ' Total Backward Packets', 'Total Length of Fwd Packets',\n",
              "       ' Total Length of Bwd Packets', ' Fwd Packet Length Max',\n",
              "       ' Fwd Packet Length Mean', ' Fwd Packet Length Std',\n",
              "       ' Bwd Packet Length Mean', 'Flow Bytes/s', ' Flow Packets/s',\n",
              "       ' Flow IAT Mean', ' Flow IAT Std', ' Flow IAT Max', ' Flow IAT Min',\n",
              "       'Fwd IAT Total', ' Fwd IAT Mean', ' Fwd IAT Std', ' Fwd IAT Max',\n",
              "       ' Fwd IAT Min', 'Bwd IAT Total', ' Fwd Header Length',\n",
              "       ' Bwd Header Length', 'Fwd Packets/s', ' Bwd Packets/s',\n",
              "       ' Min Packet Length', ' Max Packet Length', ' Packet Length Mean',\n",
              "       ' Packet Length Std', ' Packet Length Variance', ' Average Packet Size',\n",
              "       ' Avg Fwd Segment Size', ' Avg Bwd Segment Size',\n",
              "       ' Fwd Header Length.1', 'Subflow Fwd Packets', ' Subflow Fwd Bytes',\n",
              "       ' Subflow Bwd Packets', ' Subflow Bwd Bytes', 'Init_Win_bytes_forward',\n",
              "       ' Init_Win_bytes_backward', ' act_data_pkt_fwd',\n",
              "       ' min_seg_size_forward', ' Label'],\n",
              "      dtype='object')"
            ]
          },
          "metadata": {},
          "execution_count": 3
        }
      ],
      "source": [
        "df.columns"
      ]
    },
    {
      "cell_type": "code",
      "execution_count": 4,
      "metadata": {
        "id": "4JNJ8sEwt5m6"
      },
      "outputs": [],
      "source": [
        "columns_to_drop=[ ' Fwd Packet Length Max',' Fwd Packet Length Std','Flow Bytes/s',\n",
        "                 ' Flow Packets/s',' Flow IAT Std', ' Flow IAT Max', ' Flow IAT Min',\n",
        "                 'Fwd IAT Total',  ' Fwd IAT Std', ' Fwd IAT Max',' Fwd IAT Min',\n",
        "                  'Bwd IAT Total', ' Fwd Header Length',' Bwd Header Length',\n",
        "                  ' Min Packet Length', ' Max Packet Length', ' Packet Length Mean',\n",
        "                 ' Packet Length Std', ' Packet Length Variance', ' Average Packet Size',\n",
        "                  ' Avg Fwd Segment Size', ' Avg Bwd Segment Size',' Fwd Header Length.1',\n",
        "                  'Subflow Fwd Packets', ' Subflow Fwd Bytes',' Subflow Bwd Packets',\n",
        "                  ' Subflow Bwd Bytes','Init_Win_bytes_forward',' Init_Win_bytes_backward',\n",
        "                  ' act_data_pkt_fwd',' min_seg_size_forward']\n",
        "\n",
        "df = df.drop(columns=columns_to_drop)"
      ]
    },
    {
      "cell_type": "code",
      "execution_count": 5,
      "metadata": {
        "colab": {
          "base_uri": "https://localhost:8080/"
        },
        "id": "qsI7lX7xxIra",
        "outputId": "9b5bb1e5-4dde-49c9-df7d-2b07e65e1d2a"
      },
      "outputs": [
        {
          "output_type": "execute_result",
          "data": {
            "text/plain": [
              "Index([' Destination Port', ' Flow Duration', ' Total Fwd Packets',\n",
              "       ' Total Backward Packets', 'Total Length of Fwd Packets',\n",
              "       ' Total Length of Bwd Packets', ' Fwd Packet Length Mean',\n",
              "       ' Bwd Packet Length Mean', ' Flow IAT Mean', ' Fwd IAT Mean',\n",
              "       'Fwd Packets/s', ' Bwd Packets/s', ' Label'],\n",
              "      dtype='object')"
            ]
          },
          "metadata": {},
          "execution_count": 5
        }
      ],
      "source": [
        "df.columns"
      ]
    },
    {
      "cell_type": "code",
      "execution_count": 6,
      "metadata": {
        "id": "fHEmidP1njdX"
      },
      "outputs": [],
      "source": [
        "# Feature Selection/Engineering (if needed)\n",
        "# Select relevant features or engineer new ones based on your problem.\n",
        "selected_features = [' Destination Port',' Flow Duration', ' Total Fwd Packets', ' Total Backward Packets',\n",
        "       ' Total Length of Bwd Packets','Total Length of Fwd Packets', ' Fwd Packet Length Mean',' Bwd Packet Length Mean',\n",
        "       ' Flow IAT Mean', ' Fwd IAT Mean', 'Fwd Packets/s',' Bwd Packets/s',  ' Label']\n",
        "# Create a new DataFrame with selected features\n",
        "dataset_selected = dataset[selected_features]\n"
      ]
    },
    {
      "cell_type": "code",
      "execution_count": 7,
      "metadata": {
        "id": "x21DFd1Py3T5"
      },
      "outputs": [],
      "source": [
        "# Split the data into features (X) and labels (y)\n",
        "X = dataset.drop(' Label', axis=1)\n",
        "y = dataset[' Label']"
      ]
    },
    {
      "cell_type": "code",
      "execution_count": 8,
      "metadata": {
        "colab": {
          "base_uri": "https://localhost:8080/"
        },
        "id": "Eq8Z2vhj9afQ",
        "outputId": "ed0c0cfb-3f7e-450d-8761-18c5b083ea71"
      },
      "outputs": [
        {
          "output_type": "stream",
          "name": "stdout",
          "text": [
            "<class 'pandas.core.frame.DataFrame'>\n",
            "RangeIndex: 225194 entries, 0 to 225193\n",
            "Data columns (total 13 columns):\n",
            " #   Column                        Non-Null Count   Dtype  \n",
            "---  ------                        --------------   -----  \n",
            " 0    Destination Port             225194 non-null  int64  \n",
            " 1    Flow Duration                225194 non-null  int64  \n",
            " 2    Total Fwd Packets            225194 non-null  int64  \n",
            " 3    Total Backward Packets       225194 non-null  int64  \n",
            " 4   Total Length of Fwd Packets   225194 non-null  int64  \n",
            " 5    Total Length of Bwd Packets  225194 non-null  int64  \n",
            " 6    Fwd Packet Length Mean       225194 non-null  float64\n",
            " 7    Bwd Packet Length Mean       225194 non-null  float64\n",
            " 8    Flow IAT Mean                225194 non-null  float64\n",
            " 9    Fwd IAT Mean                 225194 non-null  float64\n",
            " 10  Fwd Packets/s                 225194 non-null  float64\n",
            " 11   Bwd Packets/s                225194 non-null  float64\n",
            " 12   Label                        225194 non-null  object \n",
            "dtypes: float64(6), int64(6), object(1)\n",
            "memory usage: 22.3+ MB\n"
          ]
        }
      ],
      "source": [
        "df.info()"
      ]
    },
    {
      "cell_type": "code",
      "execution_count": 9,
      "metadata": {
        "colab": {
          "base_uri": "https://localhost:8080/"
        },
        "id": "0hXxXBZdIO_t",
        "outputId": "a1c10f6c-4c78-4c52-dbe3-ff3c05cacd58"
      },
      "outputs": [
        {
          "output_type": "stream",
          "name": "stdout",
          "text": [
            " Destination Port               0\n",
            " Flow Duration                  0\n",
            " Total Fwd Packets              0\n",
            " Total Backward Packets         0\n",
            "Total Length of Fwd Packets     0\n",
            " Total Length of Bwd Packets    0\n",
            " Fwd Packet Length Mean         0\n",
            " Bwd Packet Length Mean         0\n",
            " Flow IAT Mean                  0\n",
            " Fwd IAT Mean                   0\n",
            "Fwd Packets/s                   0\n",
            " Bwd Packets/s                  0\n",
            " Label                          0\n",
            "dtype: int64\n",
            "Empty DataFrame\n",
            "Columns: [ Destination Port,  Flow Duration,  Total Fwd Packets,  Total Backward Packets, Total Length of Fwd Packets,  Total Length of Bwd Packets,  Fwd Packet Length Mean,  Bwd Packet Length Mean,  Flow IAT Mean,  Fwd IAT Mean, Fwd Packets/s,  Bwd Packets/s,  Label]\n",
            "Index: []\n"
          ]
        },
        {
          "output_type": "stream",
          "name": "stderr",
          "text": [
            "<ipython-input-9-eb99f47fc8dd>:2: FutureWarning: In a future version of pandas all arguments of DataFrame.any and Series.any will be keyword-only.\n",
            "  print(df[df.isin([np.inf, -np.inf]).any(1)])  # Check for infinite values\n"
          ]
        }
      ],
      "source": [
        "print(df.isnull().sum())  # Check for NaN values\n",
        "print(df[df.isin([np.inf, -np.inf]).any(1)])  # Check for infinite values"
      ]
    },
    {
      "cell_type": "code",
      "execution_count": 10,
      "metadata": {
        "id": "3Q38abn3Ir16"
      },
      "outputs": [],
      "source": [
        "#import numpy as np\n",
        "#df.replace([np.inf, -np.inf], np.nan, inplace=True)\n",
        "# df.fillna(df.mean(), inplace=True)\n",
        "df.fillna(df.mean(numeric_only=True), inplace=True)"
      ]
    },
    {
      "cell_type": "code",
      "execution_count": 11,
      "metadata": {
        "colab": {
          "base_uri": "https://localhost:8080/"
        },
        "id": "uG3_pCYwdWyW",
        "outputId": "27206005-3d7e-40e0-82de-1b0380f9cb4e"
      },
      "outputs": [
        {
          "output_type": "stream",
          "name": "stdout",
          "text": [
            " Destination Port               0\n",
            " Flow Duration                  0\n",
            " Total Fwd Packets              0\n",
            " Total Backward Packets         0\n",
            "Total Length of Fwd Packets     0\n",
            " Total Length of Bwd Packets    0\n",
            " Fwd Packet Length Mean         0\n",
            " Bwd Packet Length Mean         0\n",
            " Flow IAT Mean                  0\n",
            " Fwd IAT Mean                   0\n",
            "Fwd Packets/s                   0\n",
            " Bwd Packets/s                  0\n",
            " Label                          0\n",
            "dtype: int64\n"
          ]
        }
      ],
      "source": [
        "print(df.isnull().sum())  # Check for NaN values"
      ]
    },
    {
      "cell_type": "code",
      "execution_count": 12,
      "metadata": {
        "id": "evy5pxt_6zZp"
      },
      "outputs": [],
      "source": [
        "import pandas as pd\n",
        "from sklearn.preprocessing import StandardScaler, LabelEncoder\n",
        "\n",
        "\n",
        "# 1. Scaling or Normalizing Features\n",
        "# Assuming you want to use StandardScaler\n",
        "scaler = StandardScaler()\n",
        "X_normalized = scaler.fit_transform(df[[' Destination Port',' Flow Duration', ' Total Fwd Packets', ' Total Backward Packets',\n",
        "       ' Total Length of Bwd Packets','Total Length of Fwd Packets', ' Fwd Packet Length Mean',' Bwd Packet Length Mean',\n",
        "       ' Flow IAT Mean', ' Fwd IAT Mean', 'Fwd Packets/s',' Bwd Packets/s',]])\n",
        "\n",
        "# 2. Encoding Categorical Variables (if applicable)\n",
        "# Let's assume 'Category' is a categorical column\n",
        "label_encoder = LabelEncoder()\n",
        "df['Category_encoded'] = label_encoder.fit_transform(df[' Label'])\n",
        "\n",
        "# If 'Category' is nominal and you want to use one-hot encoding, you can use pandas' get_dummies method\n",
        "# df_encoded = pd.get_dummies(df, columns=['Category'], drop_first=True)\n",
        "\n",
        "# Now, 'df' contains the preprocessed data with missing values filled, features scaled, and categorical variables encoded.\n"
      ]
    },
    {
      "cell_type": "code",
      "execution_count": 13,
      "metadata": {
        "colab": {
          "base_uri": "https://localhost:8080/",
          "height": 278
        },
        "id": "E-AZvJ8mT1H2",
        "outputId": "fb115c09-3afc-4017-b226-fc5504587d64"
      },
      "outputs": [
        {
          "output_type": "execute_result",
          "data": {
            "text/plain": [
              "    Destination Port   Flow Duration   Total Fwd Packets  \\\n",
              "0              55254               3                   3   \n",
              "1              55035               4                   2   \n",
              "2              55275               5                   3   \n",
              "3               8850               4                   3   \n",
              "4              55180             737                   2   \n",
              "\n",
              "    Total Backward Packets  Total Length of Fwd Packets  \\\n",
              "0                        0                           43   \n",
              "1                        0                          248   \n",
              "2                        0                          254   \n",
              "3                        0                           43   \n",
              "4                        1                           37   \n",
              "\n",
              "    Total Length of Bwd Packets   Fwd Packet Length Mean  \\\n",
              "0                             0                14.333333   \n",
              "1                             0               124.000000   \n",
              "2                             0                84.666667   \n",
              "3                             0                14.333333   \n",
              "4                             6                18.500000   \n",
              "\n",
              "    Bwd Packet Length Mean   Flow IAT Mean   Fwd IAT Mean   Fwd Packets/s  \\\n",
              "0                      0.0             1.5            1.5  1000000.000000   \n",
              "1                      0.0             4.0            4.0   500000.000000   \n",
              "2                      0.0             2.5            2.5   600000.000000   \n",
              "3                      0.0             2.0            2.0   750000.000000   \n",
              "4                      6.0           368.5          737.0     2713.704206   \n",
              "\n",
              "    Bwd Packets/s   Label  Category_encoded  \n",
              "0        0.000000  BENIGN                 0  \n",
              "1        0.000000  BENIGN                 0  \n",
              "2        0.000000  BENIGN                 0  \n",
              "3        0.000000  BENIGN                 0  \n",
              "4     1356.852103  BENIGN                 0  "
            ],
            "text/html": [
              "\n",
              "  <div id=\"df-40d1209e-4d40-4842-bb87-3326197335ab\" class=\"colab-df-container\">\n",
              "    <div>\n",
              "<style scoped>\n",
              "    .dataframe tbody tr th:only-of-type {\n",
              "        vertical-align: middle;\n",
              "    }\n",
              "\n",
              "    .dataframe tbody tr th {\n",
              "        vertical-align: top;\n",
              "    }\n",
              "\n",
              "    .dataframe thead th {\n",
              "        text-align: right;\n",
              "    }\n",
              "</style>\n",
              "<table border=\"1\" class=\"dataframe\">\n",
              "  <thead>\n",
              "    <tr style=\"text-align: right;\">\n",
              "      <th></th>\n",
              "      <th>Destination Port</th>\n",
              "      <th>Flow Duration</th>\n",
              "      <th>Total Fwd Packets</th>\n",
              "      <th>Total Backward Packets</th>\n",
              "      <th>Total Length of Fwd Packets</th>\n",
              "      <th>Total Length of Bwd Packets</th>\n",
              "      <th>Fwd Packet Length Mean</th>\n",
              "      <th>Bwd Packet Length Mean</th>\n",
              "      <th>Flow IAT Mean</th>\n",
              "      <th>Fwd IAT Mean</th>\n",
              "      <th>Fwd Packets/s</th>\n",
              "      <th>Bwd Packets/s</th>\n",
              "      <th>Label</th>\n",
              "      <th>Category_encoded</th>\n",
              "    </tr>\n",
              "  </thead>\n",
              "  <tbody>\n",
              "    <tr>\n",
              "      <th>0</th>\n",
              "      <td>55254</td>\n",
              "      <td>3</td>\n",
              "      <td>3</td>\n",
              "      <td>0</td>\n",
              "      <td>43</td>\n",
              "      <td>0</td>\n",
              "      <td>14.333333</td>\n",
              "      <td>0.0</td>\n",
              "      <td>1.5</td>\n",
              "      <td>1.5</td>\n",
              "      <td>1000000.000000</td>\n",
              "      <td>0.000000</td>\n",
              "      <td>BENIGN</td>\n",
              "      <td>0</td>\n",
              "    </tr>\n",
              "    <tr>\n",
              "      <th>1</th>\n",
              "      <td>55035</td>\n",
              "      <td>4</td>\n",
              "      <td>2</td>\n",
              "      <td>0</td>\n",
              "      <td>248</td>\n",
              "      <td>0</td>\n",
              "      <td>124.000000</td>\n",
              "      <td>0.0</td>\n",
              "      <td>4.0</td>\n",
              "      <td>4.0</td>\n",
              "      <td>500000.000000</td>\n",
              "      <td>0.000000</td>\n",
              "      <td>BENIGN</td>\n",
              "      <td>0</td>\n",
              "    </tr>\n",
              "    <tr>\n",
              "      <th>2</th>\n",
              "      <td>55275</td>\n",
              "      <td>5</td>\n",
              "      <td>3</td>\n",
              "      <td>0</td>\n",
              "      <td>254</td>\n",
              "      <td>0</td>\n",
              "      <td>84.666667</td>\n",
              "      <td>0.0</td>\n",
              "      <td>2.5</td>\n",
              "      <td>2.5</td>\n",
              "      <td>600000.000000</td>\n",
              "      <td>0.000000</td>\n",
              "      <td>BENIGN</td>\n",
              "      <td>0</td>\n",
              "    </tr>\n",
              "    <tr>\n",
              "      <th>3</th>\n",
              "      <td>8850</td>\n",
              "      <td>4</td>\n",
              "      <td>3</td>\n",
              "      <td>0</td>\n",
              "      <td>43</td>\n",
              "      <td>0</td>\n",
              "      <td>14.333333</td>\n",
              "      <td>0.0</td>\n",
              "      <td>2.0</td>\n",
              "      <td>2.0</td>\n",
              "      <td>750000.000000</td>\n",
              "      <td>0.000000</td>\n",
              "      <td>BENIGN</td>\n",
              "      <td>0</td>\n",
              "    </tr>\n",
              "    <tr>\n",
              "      <th>4</th>\n",
              "      <td>55180</td>\n",
              "      <td>737</td>\n",
              "      <td>2</td>\n",
              "      <td>1</td>\n",
              "      <td>37</td>\n",
              "      <td>6</td>\n",
              "      <td>18.500000</td>\n",
              "      <td>6.0</td>\n",
              "      <td>368.5</td>\n",
              "      <td>737.0</td>\n",
              "      <td>2713.704206</td>\n",
              "      <td>1356.852103</td>\n",
              "      <td>BENIGN</td>\n",
              "      <td>0</td>\n",
              "    </tr>\n",
              "  </tbody>\n",
              "</table>\n",
              "</div>\n",
              "    <div class=\"colab-df-buttons\">\n",
              "\n",
              "  <div class=\"colab-df-container\">\n",
              "    <button class=\"colab-df-convert\" onclick=\"convertToInteractive('df-40d1209e-4d40-4842-bb87-3326197335ab')\"\n",
              "            title=\"Convert this dataframe to an interactive table.\"\n",
              "            style=\"display:none;\">\n",
              "\n",
              "  <svg xmlns=\"http://www.w3.org/2000/svg\" height=\"24px\" viewBox=\"0 -960 960 960\">\n",
              "    <path d=\"M120-120v-720h720v720H120Zm60-500h600v-160H180v160Zm220 220h160v-160H400v160Zm0 220h160v-160H400v160ZM180-400h160v-160H180v160Zm440 0h160v-160H620v160ZM180-180h160v-160H180v160Zm440 0h160v-160H620v160Z\"/>\n",
              "  </svg>\n",
              "    </button>\n",
              "\n",
              "  <style>\n",
              "    .colab-df-container {\n",
              "      display:flex;\n",
              "      gap: 12px;\n",
              "    }\n",
              "\n",
              "    .colab-df-convert {\n",
              "      background-color: #E8F0FE;\n",
              "      border: none;\n",
              "      border-radius: 50%;\n",
              "      cursor: pointer;\n",
              "      display: none;\n",
              "      fill: #1967D2;\n",
              "      height: 32px;\n",
              "      padding: 0 0 0 0;\n",
              "      width: 32px;\n",
              "    }\n",
              "\n",
              "    .colab-df-convert:hover {\n",
              "      background-color: #E2EBFA;\n",
              "      box-shadow: 0px 1px 2px rgba(60, 64, 67, 0.3), 0px 1px 3px 1px rgba(60, 64, 67, 0.15);\n",
              "      fill: #174EA6;\n",
              "    }\n",
              "\n",
              "    .colab-df-buttons div {\n",
              "      margin-bottom: 4px;\n",
              "    }\n",
              "\n",
              "    [theme=dark] .colab-df-convert {\n",
              "      background-color: #3B4455;\n",
              "      fill: #D2E3FC;\n",
              "    }\n",
              "\n",
              "    [theme=dark] .colab-df-convert:hover {\n",
              "      background-color: #434B5C;\n",
              "      box-shadow: 0px 1px 3px 1px rgba(0, 0, 0, 0.15);\n",
              "      filter: drop-shadow(0px 1px 2px rgba(0, 0, 0, 0.3));\n",
              "      fill: #FFFFFF;\n",
              "    }\n",
              "  </style>\n",
              "\n",
              "    <script>\n",
              "      const buttonEl =\n",
              "        document.querySelector('#df-40d1209e-4d40-4842-bb87-3326197335ab button.colab-df-convert');\n",
              "      buttonEl.style.display =\n",
              "        google.colab.kernel.accessAllowed ? 'block' : 'none';\n",
              "\n",
              "      async function convertToInteractive(key) {\n",
              "        const element = document.querySelector('#df-40d1209e-4d40-4842-bb87-3326197335ab');\n",
              "        const dataTable =\n",
              "          await google.colab.kernel.invokeFunction('convertToInteractive',\n",
              "                                                    [key], {});\n",
              "        if (!dataTable) return;\n",
              "\n",
              "        const docLinkHtml = 'Like what you see? Visit the ' +\n",
              "          '<a target=\"_blank\" href=https://colab.research.google.com/notebooks/data_table.ipynb>data table notebook</a>'\n",
              "          + ' to learn more about interactive tables.';\n",
              "        element.innerHTML = '';\n",
              "        dataTable['output_type'] = 'display_data';\n",
              "        await google.colab.output.renderOutput(dataTable, element);\n",
              "        const docLink = document.createElement('div');\n",
              "        docLink.innerHTML = docLinkHtml;\n",
              "        element.appendChild(docLink);\n",
              "      }\n",
              "    </script>\n",
              "  </div>\n",
              "\n",
              "\n",
              "<div id=\"df-07ce7f44-9066-43c6-b29d-38194c705a2a\">\n",
              "  <button class=\"colab-df-quickchart\" onclick=\"quickchart('df-07ce7f44-9066-43c6-b29d-38194c705a2a')\"\n",
              "            title=\"Suggest charts\"\n",
              "            style=\"display:none;\">\n",
              "\n",
              "<svg xmlns=\"http://www.w3.org/2000/svg\" height=\"24px\"viewBox=\"0 0 24 24\"\n",
              "     width=\"24px\">\n",
              "    <g>\n",
              "        <path d=\"M19 3H5c-1.1 0-2 .9-2 2v14c0 1.1.9 2 2 2h14c1.1 0 2-.9 2-2V5c0-1.1-.9-2-2-2zM9 17H7v-7h2v7zm4 0h-2V7h2v10zm4 0h-2v-4h2v4z\"/>\n",
              "    </g>\n",
              "</svg>\n",
              "  </button>\n",
              "\n",
              "<style>\n",
              "  .colab-df-quickchart {\n",
              "      --bg-color: #E8F0FE;\n",
              "      --fill-color: #1967D2;\n",
              "      --hover-bg-color: #E2EBFA;\n",
              "      --hover-fill-color: #174EA6;\n",
              "      --disabled-fill-color: #AAA;\n",
              "      --disabled-bg-color: #DDD;\n",
              "  }\n",
              "\n",
              "  [theme=dark] .colab-df-quickchart {\n",
              "      --bg-color: #3B4455;\n",
              "      --fill-color: #D2E3FC;\n",
              "      --hover-bg-color: #434B5C;\n",
              "      --hover-fill-color: #FFFFFF;\n",
              "      --disabled-bg-color: #3B4455;\n",
              "      --disabled-fill-color: #666;\n",
              "  }\n",
              "\n",
              "  .colab-df-quickchart {\n",
              "    background-color: var(--bg-color);\n",
              "    border: none;\n",
              "    border-radius: 50%;\n",
              "    cursor: pointer;\n",
              "    display: none;\n",
              "    fill: var(--fill-color);\n",
              "    height: 32px;\n",
              "    padding: 0;\n",
              "    width: 32px;\n",
              "  }\n",
              "\n",
              "  .colab-df-quickchart:hover {\n",
              "    background-color: var(--hover-bg-color);\n",
              "    box-shadow: 0 1px 2px rgba(60, 64, 67, 0.3), 0 1px 3px 1px rgba(60, 64, 67, 0.15);\n",
              "    fill: var(--button-hover-fill-color);\n",
              "  }\n",
              "\n",
              "  .colab-df-quickchart-complete:disabled,\n",
              "  .colab-df-quickchart-complete:disabled:hover {\n",
              "    background-color: var(--disabled-bg-color);\n",
              "    fill: var(--disabled-fill-color);\n",
              "    box-shadow: none;\n",
              "  }\n",
              "\n",
              "  .colab-df-spinner {\n",
              "    border: 2px solid var(--fill-color);\n",
              "    border-color: transparent;\n",
              "    border-bottom-color: var(--fill-color);\n",
              "    animation:\n",
              "      spin 1s steps(1) infinite;\n",
              "  }\n",
              "\n",
              "  @keyframes spin {\n",
              "    0% {\n",
              "      border-color: transparent;\n",
              "      border-bottom-color: var(--fill-color);\n",
              "      border-left-color: var(--fill-color);\n",
              "    }\n",
              "    20% {\n",
              "      border-color: transparent;\n",
              "      border-left-color: var(--fill-color);\n",
              "      border-top-color: var(--fill-color);\n",
              "    }\n",
              "    30% {\n",
              "      border-color: transparent;\n",
              "      border-left-color: var(--fill-color);\n",
              "      border-top-color: var(--fill-color);\n",
              "      border-right-color: var(--fill-color);\n",
              "    }\n",
              "    40% {\n",
              "      border-color: transparent;\n",
              "      border-right-color: var(--fill-color);\n",
              "      border-top-color: var(--fill-color);\n",
              "    }\n",
              "    60% {\n",
              "      border-color: transparent;\n",
              "      border-right-color: var(--fill-color);\n",
              "    }\n",
              "    80% {\n",
              "      border-color: transparent;\n",
              "      border-right-color: var(--fill-color);\n",
              "      border-bottom-color: var(--fill-color);\n",
              "    }\n",
              "    90% {\n",
              "      border-color: transparent;\n",
              "      border-bottom-color: var(--fill-color);\n",
              "    }\n",
              "  }\n",
              "</style>\n",
              "\n",
              "  <script>\n",
              "    async function quickchart(key) {\n",
              "      const quickchartButtonEl =\n",
              "        document.querySelector('#' + key + ' button');\n",
              "      quickchartButtonEl.disabled = true;  // To prevent multiple clicks.\n",
              "      quickchartButtonEl.classList.add('colab-df-spinner');\n",
              "      try {\n",
              "        const charts = await google.colab.kernel.invokeFunction(\n",
              "            'suggestCharts', [key], {});\n",
              "      } catch (error) {\n",
              "        console.error('Error during call to suggestCharts:', error);\n",
              "      }\n",
              "      quickchartButtonEl.classList.remove('colab-df-spinner');\n",
              "      quickchartButtonEl.classList.add('colab-df-quickchart-complete');\n",
              "    }\n",
              "    (() => {\n",
              "      let quickchartButtonEl =\n",
              "        document.querySelector('#df-07ce7f44-9066-43c6-b29d-38194c705a2a button');\n",
              "      quickchartButtonEl.style.display =\n",
              "        google.colab.kernel.accessAllowed ? 'block' : 'none';\n",
              "    })();\n",
              "  </script>\n",
              "</div>\n",
              "    </div>\n",
              "  </div>\n"
            ]
          },
          "metadata": {},
          "execution_count": 13
        }
      ],
      "source": [
        "df.head()"
      ]
    },
    {
      "cell_type": "code",
      "execution_count": 14,
      "metadata": {
        "id": "MKjP3C4ACgCT"
      },
      "outputs": [],
      "source": [
        "from sklearn.model_selection import train_test_split\n",
        "from sklearn.utils import shuffle\n",
        "\n",
        "X_train, X_test, y_train, y_test = train_test_split(X_normalized, df['Category_encoded'], test_size=0.35, random_state=42)\n",
        "X_train, y_train = shuffle(X_train, y_train, random_state=42)"
      ]
    },
    {
      "cell_type": "code",
      "execution_count": 15,
      "metadata": {
        "colab": {
          "base_uri": "https://localhost:8080/"
        },
        "id": "MH2ZdKleE4kW",
        "outputId": "96426d8c-edbd-46d6-a266-c05a38bc6a9f"
      },
      "outputs": [
        {
          "output_type": "stream",
          "name": "stdout",
          "text": [
            "X_train shape: (146376, 12)\n",
            "X_test shape: (78818, 12)\n"
          ]
        }
      ],
      "source": [
        "print(\"X_train shape:\", X_train.shape)\n",
        "print(\"X_test shape:\", X_test.shape)"
      ]
    },
    {
      "cell_type": "code",
      "execution_count": 16,
      "metadata": {
        "colab": {
          "base_uri": "https://localhost:8080/"
        },
        "id": "zjVDYQD70CBL",
        "outputId": "59668940-2aa5-4c44-fb90-5145d650d5b8"
      },
      "outputs": [
        {
          "output_type": "stream",
          "name": "stdout",
          "text": [
            "Epoch 1/5\n",
            "1144/1144 [==============================] - 174s 145ms/step - loss: 0.2563 - accuracy: 0.9131 - val_loss: 0.2210 - val_accuracy: 0.9322\n",
            "Epoch 2/5\n",
            "1144/1144 [==============================] - 164s 143ms/step - loss: 0.2383 - accuracy: 0.9229 - val_loss: 0.2208 - val_accuracy: 0.9321\n",
            "Epoch 3/5\n",
            "1144/1144 [==============================] - 145s 127ms/step - loss: 0.2399 - accuracy: 0.9226 - val_loss: 0.2208 - val_accuracy: 0.9322\n",
            "Epoch 4/5\n",
            "1144/1144 [==============================] - 163s 143ms/step - loss: 0.2389 - accuracy: 0.9222 - val_loss: 0.2207 - val_accuracy: 0.9319\n",
            "Epoch 5/5\n",
            "1144/1144 [==============================] - 146s 128ms/step - loss: 0.2395 - accuracy: 0.9218 - val_loss: 0.2204 - val_accuracy: 0.9320\n",
            "2464/2464 [==============================] - 33s 13ms/step\n",
            "Improved Accuracy: 0.9319952295161004\n"
          ]
        }
      ],
      "source": [
        "#gru\n",
        "import numpy as np\n",
        "import tensorflow as tf\n",
        "from tensorflow.keras.models import Sequential\n",
        "from tensorflow.keras.layers import GRU, Dense, Dropout, BatchNormalization\n",
        "from tensorflow.keras.regularizers import l2\n",
        "from sklearn.metrics import accuracy_score\n",
        "from tensorflow.keras.optimizers import Adam\n",
        "from tensorflow.keras.callbacks import EarlyStopping\n",
        "\n",
        "\n",
        "# Assuming you have already loaded your data (X_train, y_train, X_test, y_test) properly\n",
        "\n",
        "# Reshape data for GRU layer\n",
        "X_train = X_train.reshape(X_train.shape[0], X_train.shape[1], 1)\n",
        "X_test = X_test.reshape(X_test.shape[0], X_test.shape[1], 1)\n",
        "\n",
        "model_GRU = Sequential()\n",
        "model_GRU.add(GRU(128, input_shape=(X_train.shape[1], X_train.shape[2]), return_sequences=True))\n",
        "model_GRU.add(GRU(128, return_sequences=True))\n",
        "model_GRU.add(GRU(64))\n",
        "model_GRU.add(BatchNormalization())\n",
        "model_GRU.add(Dropout(0.6))\n",
        "model_GRU.add(Dense(1, activation='sigmoid', kernel_regularizer=l2(0.01)))\n",
        "\n",
        "# Implement learning rate scheduling\n",
        "initial_learning_rate = 0.0005\n",
        "lr_schedule = tf.keras.optimizers.schedules.ExponentialDecay(\n",
        "    initial_learning_rate, decay_steps=10, decay_rate=0.9)\n",
        "optimizer = Adam(learning_rate=lr_schedule)\n",
        "model_GRU.compile(loss='binary_crossentropy', optimizer=optimizer, metrics=['accuracy'])\n",
        "\n",
        "# Implement early stopping\n",
        "early_stopping = EarlyStopping(monitor='val_loss', patience=3, restore_best_weights=True)\n",
        "\n",
        "# Train the model with validation data\n",
        "model_GRU.fit(X_train, y_train, epochs=5, batch_size=128, validation_data=(X_test, y_test), callbacks=[early_stopping])\n",
        "\n",
        "# Evaluate the model on the test set\n",
        "y_pred = model_GRU.predict(X_test)\n",
        "y_pred_binary = (y_pred > 0.5).astype(int)\n",
        "\n",
        "# Calculate accuracy\n",
        "accuracy_GRU = accuracy_score(y_test, y_pred_binary)\n",
        "print(f'Improved Accuracy: {accuracy_GRU}')\n"
      ]
    },
    {
      "cell_type": "code",
      "execution_count": 17,
      "metadata": {
        "colab": {
          "base_uri": "https://localhost:8080/"
        },
        "id": "JYAx89QzlzbY",
        "outputId": "8a6d6e6a-eb03-4026-f289-2a851cccfef1"
      },
      "outputs": [
        {
          "output_type": "stream",
          "name": "stdout",
          "text": [
            "2464/2464 [==============================] - 30s 12ms/step\n",
            "Improved Accuracy: 0.9319952295161004\n",
            "F1 Score: 0.9388337327399293\n"
          ]
        }
      ],
      "source": [
        "from sklearn.metrics import accuracy_score, f1_score\n",
        "\n",
        "# Evaluate the model on the test set\n",
        "y_pred = model_GRU.predict(X_test)\n",
        "y_pred_binary = (y_pred > 0.5).astype(int)\n",
        "\n",
        "# Calculate accuracy\n",
        "accuracy_GRU = accuracy_score(y_test, y_pred_binary)\n",
        "\n",
        "# Calculate F1 score\n",
        "f1_GRU = f1_score(y_test, y_pred_binary)\n",
        "\n",
        "print(f'Improved Accuracy: {accuracy_GRU}')\n",
        "print(f'F1 Score: {f1_GRU}')\n"
      ]
    },
    {
      "cell_type": "code",
      "execution_count": 18,
      "metadata": {
        "colab": {
          "base_uri": "https://localhost:8080/"
        },
        "id": "WrVq_LZvSyTX",
        "outputId": "340f22d9-1011-47f8-ce9d-2d185abe2594"
      },
      "outputs": [
        {
          "output_type": "stream",
          "name": "stdout",
          "text": [
            "Precision (GRU): 0.9597750764133555\n",
            "Recall (GRU): 0.9187867146143709\n"
          ]
        }
      ],
      "source": [
        "from sklearn.metrics import precision_score, recall_score, confusion_matrix\n",
        "\n",
        "# Assuming y_test and y_pred_gru are the true labels and predictions for the GRU model\n",
        "conf_matrix_gru = confusion_matrix(y_test, y_pred_binary)\n",
        "\n",
        "precision_gru = precision_score(y_test, y_pred_binary)\n",
        "recall_gru = recall_score(y_test, y_pred_binary)\n",
        "\n",
        "print(f\"Precision (GRU): {precision_gru}\")\n",
        "print(f\"Recall (GRU): {recall_gru}\")\n"
      ]
    },
    {
      "cell_type": "code",
      "execution_count": 20,
      "metadata": {
        "colab": {
          "base_uri": "https://localhost:8080/",
          "height": 616
        },
        "id": "2bDzhLUnvvEW",
        "outputId": "9ee45d38-07ea-428c-8837-34b8c7e586f5"
      },
      "outputs": [
        {
          "output_type": "stream",
          "name": "stdout",
          "text": [
            "Confusion Matrix:\n",
            "[[32323  1724]\n",
            " [ 3636 41135]]\n"
          ]
        },
        {
          "output_type": "display_data",
          "data": {
            "text/plain": [
              "<Figure size 800x600 with 2 Axes>"
            ],
            "image/png": "[encoded data removed]"
          },
          "metadata": {}
        }
      ],
      "source": [
        "import numpy as np\n",
        "import seaborn as sns\n",
        "import matplotlib.pyplot as plt\n",
        "from sklearn.metrics import confusion_matrix\n",
        "# Assuming you have the following variables\n",
        "# y_test: True labels for the test set\n",
        "# y_pred_binary: Predicted labels for the test set\n",
        "\n",
        "# Calculate confusion matrix\n",
        "conf_matrix = confusion_matrix(y_test, y_pred_binary)\n",
        "conf_matrix_GRU = confusion_matrix(y_test, y_pred_binary)\n",
        "print('Confusion Matrix:')\n",
        "print(conf_matrix_GRU)\n",
        "# Plot confusion matrix as a heatmap\n",
        "plt.figure(figsize=(8, 6))\n",
        "sns.heatmap(conf_matrix_GRU, annot=True, fmt='d', cmap='Blues', xticklabels=['Normal', 'DDoS'], yticklabels=['Normal', 'DDoS'])\n",
        "plt.title('Confusion Matrix')\n",
        "plt.xlabel('Predicted Label')\n",
        "plt.ylabel('True Label')\n",
        "plt.show()\n"
      ]
    },
    {
      "cell_type": "code",
      "execution_count": 21,
      "metadata": {
        "colab": {
          "base_uri": "https://localhost:8080/"
        },
        "id": "B3VIaNDs2S56",
        "outputId": "9b02c8e9-9a06-4886-c3da-9deeb6542bee"
      },
      "outputs": [
        {
          "output_type": "stream",
          "name": "stdout",
          "text": [
            "Epoch 1/5\n",
            "1830/1830 [==============================] - 25s 13ms/step - loss: 0.6390 - accuracy: 0.6542 - val_loss: 0.5665 - val_accuracy: 0.7496\n",
            "Epoch 2/5\n",
            "1830/1830 [==============================] - 17s 9ms/step - loss: 0.5162 - accuracy: 0.8178 - val_loss: 0.4327 - val_accuracy: 0.8868\n",
            "Epoch 3/5\n",
            "1830/1830 [==============================] - 18s 10ms/step - loss: 0.4032 - accuracy: 0.8757 - val_loss: 0.3360 - val_accuracy: 0.8949\n",
            "Epoch 4/5\n",
            "1830/1830 [==============================] - 18s 10ms/step - loss: 0.3291 - accuracy: 0.8903 - val_loss: 0.2764 - val_accuracy: 0.9074\n",
            "Epoch 5/5\n",
            "1830/1830 [==============================] - 18s 10ms/step - loss: 0.2819 - accuracy: 0.9047 - val_loss: 0.2360 - val_accuracy: 0.9211\n",
            "2464/2464 [==============================] - 7s 3ms/step\n",
            "Accuracy: 0.9244335050369205\n"
          ]
        }
      ],
      "source": [
        "import numpy as np\n",
        "import tensorflow as tf\n",
        "from tensorflow.keras.models import Sequential\n",
        "from tensorflow.keras.layers import Conv1D, MaxPooling1D, Flatten, Dense, Dropout\n",
        "from tensorflow.keras.optimizers import SGD\n",
        "from sklearn.model_selection import train_test_split\n",
        "from sklearn.utils import shuffle\n",
        "from sklearn.metrics import accuracy_score\n",
        "\n",
        "# Assuming X_train and X_test are your normalized features\n",
        "X_train, X_test, y_train, y_test = train_test_split(X_normalized, df['Category_encoded'], test_size=0.35, random_state=42)\n",
        "X_train, y_train = shuffle(X_train, y_train, random_state=42)\n",
        "\n",
        "# Build the CNN model with a specified learning rate\n",
        "learning_rate = 0.001  # Set your desired learning rate here\n",
        "\n",
        "model_CNN = Sequential()\n",
        "model_CNN.add(Conv1D(64, kernel_size=3, activation='relu', input_shape=(X_train.shape[1], 1)))\n",
        "model_CNN.add(Dropout(0.2))\n",
        "model_CNN.add(Conv1D(128, kernel_size=3, activation='relu'))\n",
        "model_CNN.add(MaxPooling1D(pool_size=2))\n",
        "model_CNN.add(Flatten())\n",
        "model_CNN.add(Dense(64, activation='relu'))\n",
        "model_CNN.add(Dropout(0.5))\n",
        "model_CNN.add(Dense(1, activation='sigmoid'))\n",
        "\n",
        "# Use SGD optimizer with the specified learning rate\n",
        "optimizer = SGD(learning_rate=learning_rate)\n",
        "\n",
        "# Compile the model with the specified optimizer\n",
        "model_CNN.compile(loss='binary_crossentropy', optimizer=optimizer, metrics=['accuracy'])\n",
        "\n",
        "# Train the model with early stopping and dropout\n",
        "early_stopping = tf.keras.callbacks.EarlyStopping(monitor='val_loss', patience=10, restore_best_weights=True)\n",
        "\n",
        "model_CNN.fit(X_train, y_train, epochs=5, batch_size=64, validation_split=0.2, callbacks=[early_stopping])\n",
        "\n",
        "# Evaluate the model on the test set\n",
        "y_pred = model_CNN.predict(X_test)\n",
        "y_pred_binary = (y_pred > 0.5).astype(int)\n",
        "\n",
        "# Calculate accuracy\n",
        "accuracy_CNN = accuracy_score(y_test, y_pred_binary)\n",
        "print(f'Accuracy: {accuracy_CNN}')\n"
      ]
    },
    {
      "cell_type": "code",
      "execution_count": 22,
      "metadata": {
        "colab": {
          "base_uri": "https://localhost:8080/"
        },
        "id": "dCGAwICTTAEH",
        "outputId": "588956ea-0b14-47d0-e9d6-f76656f8ca6a"
      },
      "outputs": [
        {
          "output_type": "stream",
          "name": "stdout",
          "text": [
            "Precision (CNN): 0.9533721120377509\n",
            "Recall (CNN): 0.9115498872037703\n"
          ]
        }
      ],
      "source": [
        "# Assuming y_test and y_pred_cnn are the true labels and predictions for the CNN model\n",
        "conf_matrix_cnn = confusion_matrix(y_test, y_pred_binary)\n",
        "\n",
        "precision_cnn = precision_score(y_test, y_pred_binary)\n",
        "recall_cnn = recall_score(y_test, y_pred_binary)\n",
        "\n",
        "print(f\"Precision (CNN): {precision_cnn}\")\n",
        "print(f\"Recall (CNN): {recall_cnn}\")\n"
      ]
    },
    {
      "cell_type": "code",
      "execution_count": 23,
      "metadata": {
        "colab": {
          "base_uri": "https://localhost:8080/",
          "height": 668
        },
        "id": "X0W3-G1hzK9b",
        "outputId": "a2a8e1f8-f82b-4234-8ba2-e75db8579a24"
      },
      "outputs": [
        {
          "output_type": "stream",
          "name": "stdout",
          "text": [
            "2464/2464 [==============================] - 6s 2ms/step\n",
            "Accuracy: 0.9244335050369205\n",
            "F1 Score: 0.9319920527986482\n",
            "Confusion Matrix:\n",
            "[[32051  1996]\n",
            " [ 3960 40811]]\n"
          ]
        },
        {
          "output_type": "display_data",
          "data": {
            "text/plain": [
              "<Figure size 800x600 with 2 Axes>"
            ],
            "image/png": "[encoded data removed]"
          },
          "metadata": {}
        }
      ],
      "source": [
        "from sklearn.metrics import f1_score, confusion_matrix\n",
        "\n",
        "# Evaluate the model on the test set\n",
        "y_pred = model_CNN.predict(X_test)\n",
        "y_pred_binary = (y_pred > 0.5).astype(int)\n",
        "\n",
        "# Calculate accuracy\n",
        "accuracy_CNN = accuracy_score(y_test, y_pred_binary)\n",
        "print(f'Accuracy: {accuracy_CNN}')\n",
        "\n",
        "# Calculate F1 score\n",
        "f1_CNN = f1_score(y_test, y_pred_binary)\n",
        "print(f'F1 Score: {f1_CNN}')\n",
        "\n",
        "# Calculate confusion matrix\n",
        "conf_matrix_CNN = confusion_matrix(y_test, y_pred_binary)\n",
        "print('Confusion Matrix:')\n",
        "print(conf_matrix_CNN)\n",
        "# Plot confusion matrix as a heatmap\n",
        "plt.figure(figsize=(8, 6))\n",
        "sns.heatmap(conf_matrix_CNN, annot=True, fmt='d', cmap='Blues', xticklabels=['Normal', 'DDoS'], yticklabels=['Normal', 'DDoS'])\n",
        "plt.title('Confusion Matrix')\n",
        "plt.xlabel('Predicted Label')\n",
        "plt.ylabel('True Label')\n",
        "plt.show()\n",
        "\n"
      ]
    },
    {
      "cell_type": "code",
      "execution_count": 24,
      "metadata": {
        "id": "ylU8KzKKr9jL"
      },
      "outputs": [],
      "source": [
        "# print(\"Shapes - X_test_reshaped:\", X_test_reshaped.shape, \"y_pred:\", y_pred.shape, \"y_test_trimmed:\", y_test_trimmed.shape)"
      ]
    },
    {
      "cell_type": "code",
      "execution_count": 27,
      "metadata": {
        "colab": {
          "base_uri": "https://localhost:8080/"
        },
        "id": "GdFNHStYNz2_",
        "outputId": "586ee1cf-879e-47ee-d546-a94d0d43a175"
      },
      "outputs": [
        {
          "output_type": "stream",
          "name": "stdout",
          "text": [
            "Epoch 1/5\n",
            "2288/2288 [==============================] - 246s 104ms/step - loss: 0.2925 - accuracy: 0.9717 - val_loss: 0.1668 - val_accuracy: 0.9974\n",
            "Epoch 2/5\n",
            "2288/2288 [==============================] - 233s 102ms/step - loss: 0.1208 - accuracy: 0.9969 - val_loss: 0.0867 - val_accuracy: 0.9979\n",
            "Epoch 3/5\n",
            "2288/2288 [==============================] - 222s 97ms/step - loss: 0.0632 - accuracy: 0.9974 - val_loss: 0.0451 - val_accuracy: 0.9981\n",
            "Epoch 4/5\n",
            "2288/2288 [==============================] - 238s 104ms/step - loss: 0.0363 - accuracy: 0.9977 - val_loss: 0.0258 - val_accuracy: 0.9986\n",
            "Epoch 5/5\n",
            "2288/2288 [==============================] - 236s 103ms/step - loss: 0.0234 - accuracy: 0.9981 - val_loss: 0.0175 - val_accuracy: 0.9985\n",
            "2464/2464 [==============================] - 34s 13ms/step\n",
            "Hybrid Model Accuracy: 0.9985155675099596\n"
          ]
        }
      ],
      "source": [
        "from tensorflow.keras.layers import Input, Concatenate, Dense\n",
        "from tensorflow.keras.models import Model\n",
        "# Create input layers for the functional API\n",
        "input_CNN = Input(shape=(X_train.shape[1], 1))\n",
        "input_GRU = Input(shape=(X_train.shape[1], 1))\n",
        "\n",
        "# Get the output of each model given their respective input\n",
        "output_CNN = model_CNN(input_CNN)\n",
        "output_GRU = model_GRU(input_GRU)\n",
        "\n",
        "# Combine CNN and GRU outputs\n",
        "combined_output = Concatenate()([output_CNN, output_GRU])\n",
        "combined_output = Dense(1, activation='sigmoid')(combined_output)\n",
        "\n",
        "# Create the hybrid model using functional API\n",
        "model_hybrid = Model(inputs=[input_CNN, input_GRU], outputs=combined_output)\n",
        "\n",
        "# Compile the model\n",
        "optimizer = Adam(learning_rate=0.0005)\n",
        "model_hybrid.compile(loss='binary_crossentropy', optimizer=optimizer, metrics=['accuracy'])\n",
        "\n",
        "# Train the model with early stopping\n",
        "early_stopping = EarlyStopping(monitor='val_loss', patience=3, restore_best_weights=True)\n",
        "\n",
        "# Assuming X_train_reshaped and X_test_reshaped are the reshaped inputs for GRU and CNN respectively\n",
        "model_hybrid.fit([X_train, X_train], y_train, epochs=5, batch_size=64,\n",
        "                 validation_data=([X_test, X_test], y_test), callbacks=[early_stopping])\n",
        "\n",
        "# Evaluate the model on the test set\n",
        "y_pred = model_hybrid.predict([X_test, X_test])\n",
        "y_pred_binary = (y_pred > 0.5).astype(int)\n",
        "\n",
        "# Calculate accuracy\n",
        "accuracy_hybrid = accuracy_score(y_test, y_pred_binary)\n",
        "print(f'Hybrid Model Accuracy: {accuracy_hybrid}')"
      ]
    },
    {
      "cell_type": "code",
      "execution_count": 28,
      "metadata": {
        "colab": {
          "base_uri": "https://localhost:8080/",
          "height": 489
        },
        "id": "ywnZYBIrN0Rn",
        "outputId": "ea0a3d21-1a18-4fbc-8d2c-fe58da73581c"
      },
      "outputs": [
        {
          "output_type": "display_data",
          "data": {
            "text/plain": [
              "<Figure size 640x480 with 2 Axes>"
            ],
            "image/png": "[encoded data removed]"
          },
          "metadata": {}
        },
        {
          "output_type": "stream",
          "name": "stdout",
          "text": [
            "F1 Score: 0.9986928688735212\n"
          ]
        }
      ],
      "source": [
        "f1_hybrid = f1_score(y_test, y_pred_binary)\n",
        "\n",
        "# Generate confusion matrix\n",
        "conf_matrix_hybrid = confusion_matrix(y_test, y_pred_binary)\n",
        "\n",
        "# Plot heatmap for confusion matrix\n",
        "sns.heatmap(conf_matrix_hybrid, annot=True, fmt='d', cmap='Blues')\n",
        "plt.xlabel('Predicted')\n",
        "plt.ylabel('Actual')\n",
        "plt.title('Confusion Matrix')\n",
        "plt.show()\n",
        "\n",
        "print(f'F1 Score: {f1_hybrid}')"
      ]
    },
    {
      "cell_type": "code",
      "execution_count": 29,
      "metadata": {
        "colab": {
          "base_uri": "https://localhost:8080/"
        },
        "id": "_-eouxMRScpW",
        "outputId": "1c7700a1-507e-495b-a72c-d126fd44409c"
      },
      "outputs": [
        {
          "output_type": "stream",
          "name": "stdout",
          "text": [
            "Precision (Hybrid): 0.9990612007689212\n",
            "Recall (Hybrid): 0.9983248084697683\n"
          ]
        }
      ],
      "source": [
        "# Assuming y_test and y_pred_hybrid are the true labels and predictions for the hybrid model\n",
        "conf_matrix_hybrid = confusion_matrix(y_test, y_pred_binary)\n",
        "\n",
        "precision_hybrid = precision_score(y_test, y_pred_binary)\n",
        "recall_hybrid = recall_score(y_test, y_pred_binary)\n",
        "\n",
        "print(f\"Precision (Hybrid): {precision_hybrid}\")\n",
        "print(f\"Recall (Hybrid): {recall_hybrid}\")\n"
      ]
    },
    {
      "cell_type": "code",
      "execution_count": 30,
      "metadata": {
        "id": "dz5SyFsHTP3s",
        "colab": {
          "base_uri": "https://localhost:8080/",
          "height": 422
        },
        "outputId": "961ff00f-0ce0-416a-fd9f-6197e72029f6"
      },
      "outputs": [
        {
          "output_type": "execute_result",
          "data": {
            "image/png": "[encoded data removed]",
            "text/plain": [
              "<IPython.core.display.Image object>"
            ]
          },
          "metadata": {},
          "execution_count": 30
        }
      ],
      "source": [
        "from tensorflow.keras.utils import plot_model\n",
        "# Save the visual representation to a file (e.g., 'hybrid_model.png')\n",
        "plot_model(model_hybrid, to_file='hybrid_model.png', show_shapes=True)\n"
      ]
    },
    {
      "cell_type": "code",
      "source": [
        "model_hybrid.summary()"
      ],
      "metadata": {
        "colab": {
          "base_uri": "https://localhost:8080/"
        },
        "id": "on-MRkalgcRC",
        "outputId": "8d70226c-e1a8-4e7c-c82c-d0eaa9e1ca72"
      },
      "execution_count": 31,
      "outputs": [
        {
          "output_type": "stream",
          "name": "stdout",
          "text": [
            "Model: \"model\"\n",
            "__________________________________________________________________________________________________\n",
            " Layer (type)                Output Shape                 Param #   Connected to                  \n",
            "==================================================================================================\n",
            " input_3 (InputLayer)        [(None, 12, 1)]              0         []                            \n",
            "                                                                                                  \n",
            " input_4 (InputLayer)        [(None, 12, 1)]              0         []                            \n",
            "                                                                                                  \n",
            " sequential_1 (Sequential)   (None, 1)                    57857     ['input_3[0][0]']             \n",
            "                                                                                                  \n",
            " sequential (Sequential)     (None, 1)                    186945    ['input_4[0][0]']             \n",
            "                                                                                                  \n",
            " concatenate_1 (Concatenate  (None, 2)                    0         ['sequential_1[1][0]',        \n",
            " )                                                                   'sequential[1][0]']          \n",
            "                                                                                                  \n",
            " dense_4 (Dense)             (None, 1)                    3         ['concatenate_1[0][0]']       \n",
            "                                                                                                  \n",
            "==================================================================================================\n",
            "Total params: 244805 (956.27 KB)\n",
            "Trainable params: 244677 (955.77 KB)\n",
            "Non-trainable params: 128 (512.00 Byte)\n",
            "__________________________________________________________________________________________________\n"
          ]
        }
      ]
    }
  ],
  "metadata": {
    "colab": {
      "provenance": []
    },
    "kernelspec": {
      "display_name": "Python 3",
      "name": "python3"
    },
    "language_info": {
      "name": "python"
    }
  },
  "nbformat": 4,
  "nbformat_minor": 0
}